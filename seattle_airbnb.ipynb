{
 "cells": [
  {
   "cell_type": "markdown",
   "metadata": {},
   "source": [
    "# Seatle Airbnb Dataset"
   ]
  },
  {
   "cell_type": "markdown",
   "metadata": {},
   "source": [
    "### In this notebook we will use the Seattle Airbnb dataset to answer the following questions:\n",
    "\n",
    "1. What is the average nightly rate for different types of Airbnb listings in Seattle, and how does this vary by neighborhood?\n",
    "\n",
    "2. Are there certain amenities that are associated with higher-rated Airbnb listings in Seattle, and if so, what are they?\n",
    "\n",
    "3. What are the features that influence a listing's rating?\n",
    "\n",
    "4. How well can we predict the price of a listing, given its size (e.g. number of bedrooms, bathrooms, etc.) ?"
   ]
  },
  {
   "cell_type": "code",
   "execution_count": 114,
   "metadata": {},
   "outputs": [],
   "source": [
    "# importing the necessary libraries\n",
    "import numpy as np\n",
    "import pandas as pd\n",
    "import matplotlib.pyplot as plt\n",
    "from sklearn.linear_model import LinearRegression\n",
    "from sklearn.model_selection import train_test_split\n",
    "from sklearn.metrics import r2_score, mean_squared_error\n",
    "import seaborn as sns\n",
    "import re\n",
    "%matplotlib inline"
   ]
  },
  {
   "cell_type": "code",
   "execution_count": 115,
   "metadata": {},
   "outputs": [
    {
     "name": "stdout",
     "output_type": "stream",
     "text": [
      "Index(['id', 'listing_url', 'scrape_id', 'last_scraped', 'name', 'summary',\n",
      "       'space', 'description', 'experiences_offered', 'neighborhood_overview',\n",
      "       'notes', 'transit', 'thumbnail_url', 'medium_url', 'picture_url',\n",
      "       'xl_picture_url', 'host_id', 'host_url', 'host_name', 'host_since',\n",
      "       'host_location', 'host_about', 'host_response_time',\n",
      "       'host_response_rate', 'host_acceptance_rate', 'host_is_superhost',\n",
      "       'host_thumbnail_url', 'host_picture_url', 'host_neighbourhood',\n",
      "       'host_listings_count', 'host_total_listings_count',\n",
      "       'host_verifications', 'host_has_profile_pic', 'host_identity_verified',\n",
      "       'street', 'neighbourhood', 'neighbourhood_cleansed',\n",
      "       'neighbourhood_group_cleansed', 'city', 'state', 'zipcode', 'market',\n",
      "       'smart_location', 'country_code', 'country', 'latitude', 'longitude',\n",
      "       'is_location_exact', 'property_type', 'room_type', 'accommodates',\n",
      "       'bathrooms', 'bedrooms', 'beds', 'bed_type', 'amenities', 'square_feet',\n",
      "       'price', 'weekly_price', 'monthly_price', 'security_deposit',\n",
      "       'cleaning_fee', 'guests_included', 'extra_people', 'minimum_nights',\n",
      "       'maximum_nights', 'calendar_updated', 'has_availability',\n",
      "       'availability_30', 'availability_60', 'availability_90',\n",
      "       'availability_365', 'calendar_last_scraped', 'number_of_reviews',\n",
      "       'first_review', 'last_review', 'review_scores_rating',\n",
      "       'review_scores_accuracy', 'review_scores_cleanliness',\n",
      "       'review_scores_checkin', 'review_scores_communication',\n",
      "       'review_scores_location', 'review_scores_value', 'requires_license',\n",
      "       'license', 'jurisdiction_names', 'instant_bookable',\n",
      "       'cancellation_policy', 'require_guest_profile_picture',\n",
      "       'require_guest_phone_verification', 'calculated_host_listings_count',\n",
      "       'reviews_per_month'],\n",
      "      dtype='object')\n"
     ]
    }
   ],
   "source": [
    "#read in the dataset\n",
    "data = pd.read_csv('./archive/listings.csv')\n",
    "print(data.columns)"
   ]
  },
  {
   "cell_type": "code",
   "execution_count": 116,
   "metadata": {},
   "outputs": [
    {
     "data": {
      "text/plain": [
       "Index(['summary', 'space', 'neighborhood_overview', 'notes', 'transit',\n",
       "       'thumbnail_url', 'medium_url', 'xl_picture_url', 'host_name',\n",
       "       'host_since', 'host_location', 'host_about', 'host_response_time',\n",
       "       'host_response_rate', 'host_acceptance_rate', 'host_is_superhost',\n",
       "       'host_thumbnail_url', 'host_picture_url', 'host_neighbourhood',\n",
       "       'host_listings_count', 'host_total_listings_count',\n",
       "       'host_has_profile_pic', 'host_identity_verified', 'neighbourhood',\n",
       "       'zipcode', 'property_type', 'bathrooms', 'bedrooms', 'beds',\n",
       "       'square_feet', 'weekly_price', 'monthly_price', 'security_deposit',\n",
       "       'cleaning_fee', 'first_review', 'last_review', 'review_scores_rating',\n",
       "       'review_scores_accuracy', 'review_scores_cleanliness',\n",
       "       'review_scores_checkin', 'review_scores_communication',\n",
       "       'review_scores_location', 'review_scores_value', 'license',\n",
       "       'reviews_per_month'],\n",
       "      dtype='object')"
      ]
     },
     "execution_count": 116,
     "metadata": {},
     "output_type": "execute_result"
    }
   ],
   "source": [
    "data.columns[data.isnull().any()]"
   ]
  },
  {
   "cell_type": "markdown",
   "metadata": {},
   "source": [
    "## Question 1\n",
    "#### What is the average nightly rate for different types of Airbnb listings in Seattle, and how does this vary by neighbourhood?"
   ]
  },
  {
   "cell_type": "markdown",
   "metadata": {},
   "source": [
    "#### First, we need to know the number of missing values"
   ]
  },
  {
   "cell_type": "code",
   "execution_count": 117,
   "metadata": {},
   "outputs": [],
   "source": [
    "def missing_values(df,col):\n",
    "    total_count = np.sum(df[f'{col}'].isna())\n",
    "    return (total_count , total_count / len(df[f'{col}']))"
   ]
  },
  {
   "cell_type": "code",
   "execution_count": 118,
   "metadata": {},
   "outputs": [],
   "source": [
    "def remove_missing_rows(df,cols):\n",
    "    '''\n",
    "    Remove Rows that have NA in the given list of columns and having only those columns\n",
    "    '''\n",
    "    df = df.loc[:,cols]\n",
    "    return df.dropna(subset = cols, how='any')"
   ]
  },
  {
   "cell_type": "code",
   "execution_count": 119,
   "metadata": {},
   "outputs": [
    {
     "name": "stdout",
     "output_type": "stream",
     "text": [
      "Number of missing values in, Property type : 1, Price : 0, Neighbourhood : 416\n"
     ]
    }
   ],
   "source": [
    "print(f\"Number of missing values in, Property type : {missing_values(data,'property_type')[0]}\"\n",
    "        f\", Price : {missing_values(data,'price')[0]}, Neighbourhood : {missing_values(data,'neighbourhood')[0]}\")"
   ]
  },
  {
   "cell_type": "markdown",
   "metadata": {},
   "source": [
    "As we can see the number of missing values are relatively low. In addition to that, the neighbourhood is fundamental in our analysis, so having missing values in the neghbourhood is irrelevant"
   ]
  },
  {
   "cell_type": "code",
   "execution_count": 120,
   "metadata": {},
   "outputs": [
    {
     "data": {
      "text/html": [
       "<div>\n",
       "<style scoped>\n",
       "    .dataframe tbody tr th:only-of-type {\n",
       "        vertical-align: middle;\n",
       "    }\n",
       "\n",
       "    .dataframe tbody tr th {\n",
       "        vertical-align: top;\n",
       "    }\n",
       "\n",
       "    .dataframe thead th {\n",
       "        text-align: right;\n",
       "    }\n",
       "</style>\n",
       "<table border=\"1\" class=\"dataframe\">\n",
       "  <thead>\n",
       "    <tr style=\"text-align: right;\">\n",
       "      <th></th>\n",
       "      <th>price</th>\n",
       "      <th>neighbourhood</th>\n",
       "      <th>property_type</th>\n",
       "    </tr>\n",
       "  </thead>\n",
       "  <tbody>\n",
       "    <tr>\n",
       "      <th>0</th>\n",
       "      <td>$85.00</td>\n",
       "      <td>Queen Anne</td>\n",
       "      <td>Apartment</td>\n",
       "    </tr>\n",
       "    <tr>\n",
       "      <th>1</th>\n",
       "      <td>$150.00</td>\n",
       "      <td>Queen Anne</td>\n",
       "      <td>Apartment</td>\n",
       "    </tr>\n",
       "    <tr>\n",
       "      <th>2</th>\n",
       "      <td>$975.00</td>\n",
       "      <td>Queen Anne</td>\n",
       "      <td>House</td>\n",
       "    </tr>\n",
       "    <tr>\n",
       "      <th>3</th>\n",
       "      <td>$100.00</td>\n",
       "      <td>Queen Anne</td>\n",
       "      <td>Apartment</td>\n",
       "    </tr>\n",
       "    <tr>\n",
       "      <th>4</th>\n",
       "      <td>$450.00</td>\n",
       "      <td>Queen Anne</td>\n",
       "      <td>House</td>\n",
       "    </tr>\n",
       "  </tbody>\n",
       "</table>\n",
       "</div>"
      ],
      "text/plain": [
       "     price neighbourhood property_type\n",
       "0   $85.00    Queen Anne     Apartment\n",
       "1  $150.00    Queen Anne     Apartment\n",
       "2  $975.00    Queen Anne         House\n",
       "3  $100.00    Queen Anne     Apartment\n",
       "4  $450.00    Queen Anne         House"
      ]
     },
     "execution_count": 120,
     "metadata": {},
     "output_type": "execute_result"
    }
   ],
   "source": [
    "q1_df = remove_missing_rows(data,['price','neighbourhood','property_type'])\n",
    "q1_df.head()"
   ]
  },
  {
   "cell_type": "code",
   "execution_count": 121,
   "metadata": {},
   "outputs": [],
   "source": [
    "def price_string_to_int(df,col,dropna = False):\n",
    "    if dropna:\n",
    "        df[f'{col}']=pd.to_numeric(df[f'{col}'].str[1:],errors='coerce').dropna()\n",
    "    else:\n",
    "        df[f'{col}']=pd.to_numeric(df[f'{col}'].str[1:],errors='coerce')\n",
    "    return df\n",
    "def one_hot_encode(df,col):\n",
    "    '''\n",
    "    Given a column 1 hot encode the values and remove the original\n",
    "    '''\n",
    "    df = pd.concat([df.drop(col, axis=1), pd.get_dummies(df[col], prefix=col, prefix_sep='_', drop_first=True)], axis=1)\n",
    "    return df"
   ]
  },
  {
   "cell_type": "code",
   "execution_count": 122,
   "metadata": {},
   "outputs": [
    {
     "data": {
      "text/html": [
       "<div>\n",
       "<style scoped>\n",
       "    .dataframe tbody tr th:only-of-type {\n",
       "        vertical-align: middle;\n",
       "    }\n",
       "\n",
       "    .dataframe tbody tr th {\n",
       "        vertical-align: top;\n",
       "    }\n",
       "\n",
       "    .dataframe thead th {\n",
       "        text-align: right;\n",
       "    }\n",
       "</style>\n",
       "<table border=\"1\" class=\"dataframe\">\n",
       "  <thead>\n",
       "    <tr style=\"text-align: right;\">\n",
       "      <th></th>\n",
       "      <th>price</th>\n",
       "      <th>neighbourhood</th>\n",
       "      <th>property_type</th>\n",
       "    </tr>\n",
       "  </thead>\n",
       "  <tbody>\n",
       "    <tr>\n",
       "      <th>0</th>\n",
       "      <td>85.0</td>\n",
       "      <td>Queen Anne</td>\n",
       "      <td>Apartment</td>\n",
       "    </tr>\n",
       "    <tr>\n",
       "      <th>1</th>\n",
       "      <td>150.0</td>\n",
       "      <td>Queen Anne</td>\n",
       "      <td>Apartment</td>\n",
       "    </tr>\n",
       "    <tr>\n",
       "      <th>2</th>\n",
       "      <td>975.0</td>\n",
       "      <td>Queen Anne</td>\n",
       "      <td>House</td>\n",
       "    </tr>\n",
       "    <tr>\n",
       "      <th>3</th>\n",
       "      <td>100.0</td>\n",
       "      <td>Queen Anne</td>\n",
       "      <td>Apartment</td>\n",
       "    </tr>\n",
       "    <tr>\n",
       "      <th>4</th>\n",
       "      <td>450.0</td>\n",
       "      <td>Queen Anne</td>\n",
       "      <td>House</td>\n",
       "    </tr>\n",
       "  </tbody>\n",
       "</table>\n",
       "</div>"
      ],
      "text/plain": [
       "   price neighbourhood property_type\n",
       "0   85.0    Queen Anne     Apartment\n",
       "1  150.0    Queen Anne     Apartment\n",
       "2  975.0    Queen Anne         House\n",
       "3  100.0    Queen Anne     Apartment\n",
       "4  450.0    Queen Anne         House"
      ]
     },
     "execution_count": 122,
     "metadata": {},
     "output_type": "execute_result"
    }
   ],
   "source": [
    "# change the price from string to int\n",
    "q1_df = price_string_to_int(q1_df,'price')\n",
    "q1_df.head()"
   ]
  },
  {
   "cell_type": "code",
   "execution_count": 123,
   "metadata": {},
   "outputs": [
    {
     "data": {
      "text/html": [
       "<div>\n",
       "<style scoped>\n",
       "    .dataframe tbody tr th:only-of-type {\n",
       "        vertical-align: middle;\n",
       "    }\n",
       "\n",
       "    .dataframe tbody tr th {\n",
       "        vertical-align: top;\n",
       "    }\n",
       "\n",
       "    .dataframe thead th {\n",
       "        text-align: right;\n",
       "    }\n",
       "</style>\n",
       "<table border=\"1\" class=\"dataframe\">\n",
       "  <thead>\n",
       "    <tr style=\"text-align: right;\">\n",
       "      <th></th>\n",
       "      <th>min</th>\n",
       "      <th>mean</th>\n",
       "      <th>max</th>\n",
       "    </tr>\n",
       "    <tr>\n",
       "      <th>property_type</th>\n",
       "      <th></th>\n",
       "      <th></th>\n",
       "      <th></th>\n",
       "    </tr>\n",
       "  </thead>\n",
       "  <tbody>\n",
       "    <tr>\n",
       "      <th>Boat</th>\n",
       "      <td>75.0</td>\n",
       "      <td>221.666667</td>\n",
       "      <td>775.0</td>\n",
       "    </tr>\n",
       "    <tr>\n",
       "      <th>Condominium</th>\n",
       "      <td>50.0</td>\n",
       "      <td>155.698795</td>\n",
       "      <td>700.0</td>\n",
       "    </tr>\n",
       "    <tr>\n",
       "      <th>Loft</th>\n",
       "      <td>49.0</td>\n",
       "      <td>135.970588</td>\n",
       "      <td>425.0</td>\n",
       "    </tr>\n",
       "    <tr>\n",
       "      <th>Townhouse</th>\n",
       "      <td>33.0</td>\n",
       "      <td>134.254717</td>\n",
       "      <td>498.0</td>\n",
       "    </tr>\n",
       "    <tr>\n",
       "      <th>House</th>\n",
       "      <td>25.0</td>\n",
       "      <td>132.673312</td>\n",
       "      <td>975.0</td>\n",
       "    </tr>\n",
       "  </tbody>\n",
       "</table>\n",
       "</div>"
      ],
      "text/plain": [
       "                min        mean    max\n",
       "property_type                         \n",
       "Boat           75.0  221.666667  775.0\n",
       "Condominium    50.0  155.698795  700.0\n",
       "Loft           49.0  135.970588  425.0\n",
       "Townhouse      33.0  134.254717  498.0\n",
       "House          25.0  132.673312  975.0"
      ]
     },
     "execution_count": 123,
     "metadata": {},
     "output_type": "execute_result"
    }
   ],
   "source": [
    "# get the avg of each property type across Seattle\n",
    "q1_df1 = q1_df.groupby(['property_type'])['price'].aggregate(['min','mean','max']).sort_values(by='mean',ascending=False)\n",
    "q1_df1.head()"
   ]
  },
  {
   "cell_type": "code",
   "execution_count": 124,
   "metadata": {},
   "outputs": [
    {
     "data": {
      "text/html": [
       "<div>\n",
       "<style scoped>\n",
       "    .dataframe tbody tr th:only-of-type {\n",
       "        vertical-align: middle;\n",
       "    }\n",
       "\n",
       "    .dataframe tbody tr th {\n",
       "        vertical-align: top;\n",
       "    }\n",
       "\n",
       "    .dataframe thead th {\n",
       "        text-align: right;\n",
       "    }\n",
       "</style>\n",
       "<table border=\"1\" class=\"dataframe\">\n",
       "  <thead>\n",
       "    <tr style=\"text-align: right;\">\n",
       "      <th></th>\n",
       "      <th></th>\n",
       "      <th>min</th>\n",
       "      <th>mean</th>\n",
       "      <th>max</th>\n",
       "    </tr>\n",
       "    <tr>\n",
       "      <th>property_type</th>\n",
       "      <th>neighbourhood</th>\n",
       "      <th></th>\n",
       "      <th></th>\n",
       "      <th></th>\n",
       "    </tr>\n",
       "  </thead>\n",
       "  <tbody>\n",
       "    <tr>\n",
       "      <th>Boat</th>\n",
       "      <th>Westlake</th>\n",
       "      <td>150.0</td>\n",
       "      <td>462.500000</td>\n",
       "      <td>775.0</td>\n",
       "    </tr>\n",
       "    <tr>\n",
       "      <th rowspan=\"2\" valign=\"top\">House</th>\n",
       "      <th>Fairmount Park</th>\n",
       "      <td>370.0</td>\n",
       "      <td>370.000000</td>\n",
       "      <td>370.0</td>\n",
       "    </tr>\n",
       "    <tr>\n",
       "      <th>Portage Bay</th>\n",
       "      <td>90.0</td>\n",
       "      <td>340.285714</td>\n",
       "      <td>750.0</td>\n",
       "    </tr>\n",
       "    <tr>\n",
       "      <th>Townhouse</th>\n",
       "      <th>Green Lake</th>\n",
       "      <td>325.0</td>\n",
       "      <td>325.000000</td>\n",
       "      <td>325.0</td>\n",
       "    </tr>\n",
       "    <tr>\n",
       "      <th>Loft</th>\n",
       "      <th>Industrial District</th>\n",
       "      <td>320.0</td>\n",
       "      <td>320.000000</td>\n",
       "      <td>320.0</td>\n",
       "    </tr>\n",
       "  </tbody>\n",
       "</table>\n",
       "</div>"
      ],
      "text/plain": [
       "                                     min        mean    max\n",
       "property_type neighbourhood                                \n",
       "Boat          Westlake             150.0  462.500000  775.0\n",
       "House         Fairmount Park       370.0  370.000000  370.0\n",
       "              Portage Bay           90.0  340.285714  750.0\n",
       "Townhouse     Green Lake           325.0  325.000000  325.0\n",
       "Loft          Industrial District  320.0  320.000000  320.0"
      ]
     },
     "execution_count": 124,
     "metadata": {},
     "output_type": "execute_result"
    }
   ],
   "source": [
    "q1_df = q1_df.groupby(['property_type', 'neighbourhood'])['price'].aggregate(['min','mean','max']).sort_values(by='mean',ascending=False)\n",
    "q1_df.head()"
   ]
  },
  {
   "cell_type": "code",
   "execution_count": 125,
   "metadata": {},
   "outputs": [
    {
     "data": {
      "image/png": "[encoded data removed]",
      "text/plain": [
       "<Figure size 432x288 with 2 Axes>"
      ]
     },
     "metadata": {
      "needs_background": "light"
     },
     "output_type": "display_data"
    }
   ],
   "source": [
    "sns.heatmap(q1_df[:10],cmap='coolwarm', annot=True, fmt='.0f',cbar_kws={'label': 'Average Nightly Rate'});"
   ]
  },
  {
   "cell_type": "markdown",
   "metadata": {},
   "source": [
    "### Conslusion\n",
    "As we can see the average nightly rate varies greatly by neighbourhood, this states the fact that, in certain neighbourhoods you some property types are more popular than other neighbourhoods within Seattle."
   ]
  },
  {
   "cell_type": "markdown",
   "metadata": {},
   "source": [
    "## Question 2\n",
    "#### Are there certain amenities that are associated with higher-rated Airbnb listings in Seattle, and if so, what are they?"
   ]
  },
  {
   "cell_type": "code",
   "execution_count": 126,
   "metadata": {},
   "outputs": [
    {
     "data": {
      "text/html": [
       "<div>\n",
       "<style scoped>\n",
       "    .dataframe tbody tr th:only-of-type {\n",
       "        vertical-align: middle;\n",
       "    }\n",
       "\n",
       "    .dataframe tbody tr th {\n",
       "        vertical-align: top;\n",
       "    }\n",
       "\n",
       "    .dataframe thead th {\n",
       "        text-align: right;\n",
       "    }\n",
       "</style>\n",
       "<table border=\"1\" class=\"dataframe\">\n",
       "  <thead>\n",
       "    <tr style=\"text-align: right;\">\n",
       "      <th></th>\n",
       "      <th>amenities</th>\n",
       "      <th>review_scores_rating</th>\n",
       "    </tr>\n",
       "  </thead>\n",
       "  <tbody>\n",
       "    <tr>\n",
       "      <th>0</th>\n",
       "      <td>{TV,\"Cable TV\",Internet,\"Wireless Internet\",\"A...</td>\n",
       "      <td>95.0</td>\n",
       "    </tr>\n",
       "    <tr>\n",
       "      <th>1</th>\n",
       "      <td>{TV,Internet,\"Wireless Internet\",Kitchen,\"Free...</td>\n",
       "      <td>96.0</td>\n",
       "    </tr>\n",
       "    <tr>\n",
       "      <th>2</th>\n",
       "      <td>{TV,\"Cable TV\",Internet,\"Wireless Internet\",\"A...</td>\n",
       "      <td>97.0</td>\n",
       "    </tr>\n",
       "    <tr>\n",
       "      <th>3</th>\n",
       "      <td>{Internet,\"Wireless Internet\",Kitchen,\"Indoor ...</td>\n",
       "      <td>NaN</td>\n",
       "    </tr>\n",
       "    <tr>\n",
       "      <th>4</th>\n",
       "      <td>{TV,\"Cable TV\",Internet,\"Wireless Internet\",Ki...</td>\n",
       "      <td>92.0</td>\n",
       "    </tr>\n",
       "  </tbody>\n",
       "</table>\n",
       "</div>"
      ],
      "text/plain": [
       "                                           amenities  review_scores_rating\n",
       "0  {TV,\"Cable TV\",Internet,\"Wireless Internet\",\"A...                  95.0\n",
       "1  {TV,Internet,\"Wireless Internet\",Kitchen,\"Free...                  96.0\n",
       "2  {TV,\"Cable TV\",Internet,\"Wireless Internet\",\"A...                  97.0\n",
       "3  {Internet,\"Wireless Internet\",Kitchen,\"Indoor ...                   NaN\n",
       "4  {TV,\"Cable TV\",Internet,\"Wireless Internet\",Ki...                  92.0"
      ]
     },
     "execution_count": 126,
     "metadata": {},
     "output_type": "execute_result"
    }
   ],
   "source": [
    "# get the number or missing values in the dataset\n",
    "q2_df = data[['amenities','review_scores_rating']]\n",
    "q2_df.head()"
   ]
  },
  {
   "cell_type": "code",
   "execution_count": 127,
   "metadata": {},
   "outputs": [
    {
     "name": "stdout",
     "output_type": "stream",
     "text": [
      "The missing values in Amenities = 0 , 0.0%\n",
      "The missing Ratings = 647 , 0.16946045049764275%\n"
     ]
    }
   ],
   "source": [
    "print(f\"The missing values in Amenities = {missing_values(q2_df,'amenities')[0]} , {missing_values(q2_df,'amenities')[1]}%\"\n",
    "     f\"\\nThe missing Ratings = {missing_values(q2_df,'review_scores_rating')[0]} , {missing_values(q2_df,'review_scores_rating')[1]}%\")"
   ]
  },
  {
   "cell_type": "markdown",
   "metadata": {},
   "source": [
    "#### Why is this data missing?\n",
    "That might be because no one has yet to try those listings, so having them in our analysis is irrelevant."
   ]
  },
  {
   "cell_type": "code",
   "execution_count": 128,
   "metadata": {},
   "outputs": [
    {
     "name": "stdout",
     "output_type": "stream",
     "text": [
      "TV,Internet,\"Wireless Internet\",Kitchen,\"Free Parking on Premises\",\"Buzzer/Wireless Intercom\",Heating,\"Family/Kid Friendly\",Washer,Dryer,\"Smoke Detector\",\"Carbon Monoxide Detector\",\"First Aid Kit\",\"Safety Card\",\"Fire Extinguisher\",Essentials\n"
     ]
    }
   ],
   "source": [
    "# remove the rows with missing ratings\n",
    "q2_df = remove_missing_rows(q2_df,['amenities','review_scores_rating'])\n",
    "# print(re.split(\",|{|}\",q2_df['amenities'][1][1:-1]))\n",
    "print(re.sub(\"[{|}]\",\"\",q2_df['amenities'][1][1:-1]))"
   ]
  },
  {
   "cell_type": "code",
   "execution_count": 129,
   "metadata": {},
   "outputs": [
    {
     "data": {
      "text/html": [
       "<div>\n",
       "<style scoped>\n",
       "    .dataframe tbody tr th:only-of-type {\n",
       "        vertical-align: middle;\n",
       "    }\n",
       "\n",
       "    .dataframe tbody tr th {\n",
       "        vertical-align: top;\n",
       "    }\n",
       "\n",
       "    .dataframe thead th {\n",
       "        text-align: right;\n",
       "    }\n",
       "</style>\n",
       "<table border=\"1\" class=\"dataframe\">\n",
       "  <thead>\n",
       "    <tr style=\"text-align: right;\">\n",
       "      <th></th>\n",
       "      <th>amenities</th>\n",
       "      <th>review_scores_rating</th>\n",
       "    </tr>\n",
       "  </thead>\n",
       "  <tbody>\n",
       "    <tr>\n",
       "      <th>0</th>\n",
       "      <td>TV,Cable TV,Internet,Wireless Internet,Air Con...</td>\n",
       "      <td>95.0</td>\n",
       "    </tr>\n",
       "    <tr>\n",
       "      <th>1</th>\n",
       "      <td>TV,Internet,Wireless Internet,Kitchen,Free Par...</td>\n",
       "      <td>96.0</td>\n",
       "    </tr>\n",
       "    <tr>\n",
       "      <th>2</th>\n",
       "      <td>TV,Cable TV,Internet,Wireless Internet,Air Con...</td>\n",
       "      <td>97.0</td>\n",
       "    </tr>\n",
       "    <tr>\n",
       "      <th>4</th>\n",
       "      <td>TV,Cable TV,Internet,Wireless Internet,Kitchen...</td>\n",
       "      <td>92.0</td>\n",
       "    </tr>\n",
       "    <tr>\n",
       "      <th>5</th>\n",
       "      <td>Wireless Internet,Free Parking on Premises,Hea...</td>\n",
       "      <td>95.0</td>\n",
       "    </tr>\n",
       "  </tbody>\n",
       "</table>\n",
       "</div>"
      ],
      "text/plain": [
       "                                           amenities  review_scores_rating\n",
       "0  TV,Cable TV,Internet,Wireless Internet,Air Con...                  95.0\n",
       "1  TV,Internet,Wireless Internet,Kitchen,Free Par...                  96.0\n",
       "2  TV,Cable TV,Internet,Wireless Internet,Air Con...                  97.0\n",
       "4  TV,Cable TV,Internet,Wireless Internet,Kitchen...                  92.0\n",
       "5  Wireless Internet,Free Parking on Premises,Hea...                  95.0"
      ]
     },
     "execution_count": 129,
     "metadata": {},
     "output_type": "execute_result"
    }
   ],
   "source": [
    "def split_amenities(val):\n",
    "#     return re.split(\",|{|}\",val[1:-1])\n",
    "    return re.sub(\"[{|}]\",\"\",val) if val else None\n",
    "def remove_quotes(lst):\n",
    "    return \"\".join([s.replace('\"', '') for s in lst]) if lst else None\n",
    "q2_df['amenities'] = q2_df['amenities'].apply(lambda x : split_amenities(x))\n",
    "q2_df['amenities'] = q2_df['amenities'].apply(remove_quotes)\n",
    "\n",
    "q2_df.head()"
   ]
  },
  {
   "cell_type": "code",
   "execution_count": 130,
   "metadata": {},
   "outputs": [
    {
     "data": {
      "image/png": "[encoded data removed]",
      "text/plain": [
       "<Figure size 432x288 with 1 Axes>"
      ]
     },
     "metadata": {
      "needs_background": "light"
     },
     "output_type": "display_data"
    }
   ],
   "source": [
    "plt.hist(q2_df['review_scores_rating'],bins = 100)\n",
    "plt.xlabel('Value')\n",
    "plt.ylabel('Frequency')\n",
    "plt.title('Distribution of Column')\n",
    "plt.show()"
   ]
  },
  {
   "cell_type": "code",
   "execution_count": 131,
   "metadata": {},
   "outputs": [],
   "source": [
    "# split into 2 groups, average rating listings and higher than average listings\n",
    "average_rating = q2_df['review_scores_rating'].mean()\n",
    "q2_df['rating_group'] = q2_df['review_scores_rating'].apply(lambda x: 'High' if x > average_rating else 'Average')\n",
    "high_rated_df = q2_df[q2_df['rating_group'] == 'High']\n",
    "average_rated_df = q2_df[q2_df['rating_group'] == 'Average']"
   ]
  },
  {
   "cell_type": "code",
   "execution_count": 132,
   "metadata": {},
   "outputs": [
    {
     "name": "stdout",
     "output_type": "stream",
     "text": [
      "{'Washer / Dryer'}\n",
      "set()\n"
     ]
    }
   ],
   "source": [
    "high_rated_amenities = set(high_rated_df['amenities'].str.cat(sep=',').split(','))\n",
    "average_rated_amenities = set(average_rated_df['amenities'].str.cat(sep=',').split(','))\n",
    "high_rated_only_amenities =  high_rated_amenities - average_rated_amenities\n",
    "average_rated_only_amenities =  average_rated_amenities-high_rated_amenities\n",
    "print(average_rated_only_amenities)\n",
    "print(high_rated_only_amenities)"
   ]
  },
  {
   "cell_type": "markdown",
   "metadata": {},
   "source": [
    "### Conclusion\n",
    "As we can see from the results above, average-rated amenities and high-rated amenities have almost the exact same set of amenities. So we can conclude that the amenities available in listings are not related to the rating of the listing."
   ]
  },
  {
   "cell_type": "markdown",
   "metadata": {},
   "source": [
    "## Question 3\n",
    "#### What are the features that influence a listing's rating?"
   ]
  },
  {
   "cell_type": "code",
   "execution_count": 133,
   "metadata": {},
   "outputs": [
    {
     "data": {
      "text/html": [
       "<div>\n",
       "<style scoped>\n",
       "    .dataframe tbody tr th:only-of-type {\n",
       "        vertical-align: middle;\n",
       "    }\n",
       "\n",
       "    .dataframe tbody tr th {\n",
       "        vertical-align: top;\n",
       "    }\n",
       "\n",
       "    .dataframe thead th {\n",
       "        text-align: right;\n",
       "    }\n",
       "</style>\n",
       "<table border=\"1\" class=\"dataframe\">\n",
       "  <thead>\n",
       "    <tr style=\"text-align: right;\">\n",
       "      <th></th>\n",
       "      <th>host_response_rate</th>\n",
       "      <th>host_is_superhost</th>\n",
       "      <th>host_verifications</th>\n",
       "      <th>host_identity_verified</th>\n",
       "      <th>neighbourhood</th>\n",
       "      <th>property_type</th>\n",
       "      <th>accommodates</th>\n",
       "      <th>price</th>\n",
       "      <th>security_deposit</th>\n",
       "      <th>cleaning_fee</th>\n",
       "      <th>guests_included</th>\n",
       "      <th>extra_people</th>\n",
       "      <th>availability_30</th>\n",
       "      <th>availability_60</th>\n",
       "      <th>availability_90</th>\n",
       "      <th>availability_365</th>\n",
       "      <th>number_of_reviews</th>\n",
       "      <th>review_scores_rating</th>\n",
       "      <th>instant_bookable</th>\n",
       "    </tr>\n",
       "  </thead>\n",
       "  <tbody>\n",
       "    <tr>\n",
       "      <th>0</th>\n",
       "      <td>96%</td>\n",
       "      <td>f</td>\n",
       "      <td>['email', 'phone', 'reviews', 'kba']</td>\n",
       "      <td>t</td>\n",
       "      <td>Queen Anne</td>\n",
       "      <td>Apartment</td>\n",
       "      <td>4</td>\n",
       "      <td>$85.00</td>\n",
       "      <td>NaN</td>\n",
       "      <td>NaN</td>\n",
       "      <td>2</td>\n",
       "      <td>$5.00</td>\n",
       "      <td>14</td>\n",
       "      <td>41</td>\n",
       "      <td>71</td>\n",
       "      <td>346</td>\n",
       "      <td>207</td>\n",
       "      <td>95.0</td>\n",
       "      <td>f</td>\n",
       "    </tr>\n",
       "    <tr>\n",
       "      <th>1</th>\n",
       "      <td>98%</td>\n",
       "      <td>t</td>\n",
       "      <td>['email', 'phone', 'facebook', 'linkedin', 're...</td>\n",
       "      <td>t</td>\n",
       "      <td>Queen Anne</td>\n",
       "      <td>Apartment</td>\n",
       "      <td>4</td>\n",
       "      <td>$150.00</td>\n",
       "      <td>$100.00</td>\n",
       "      <td>$40.00</td>\n",
       "      <td>1</td>\n",
       "      <td>$0.00</td>\n",
       "      <td>13</td>\n",
       "      <td>13</td>\n",
       "      <td>16</td>\n",
       "      <td>291</td>\n",
       "      <td>43</td>\n",
       "      <td>96.0</td>\n",
       "      <td>f</td>\n",
       "    </tr>\n",
       "    <tr>\n",
       "      <th>2</th>\n",
       "      <td>67%</td>\n",
       "      <td>f</td>\n",
       "      <td>['email', 'phone', 'google', 'reviews', 'jumio']</td>\n",
       "      <td>t</td>\n",
       "      <td>Queen Anne</td>\n",
       "      <td>House</td>\n",
       "      <td>11</td>\n",
       "      <td>$975.00</td>\n",
       "      <td>$1,000.00</td>\n",
       "      <td>$300.00</td>\n",
       "      <td>10</td>\n",
       "      <td>$25.00</td>\n",
       "      <td>1</td>\n",
       "      <td>6</td>\n",
       "      <td>17</td>\n",
       "      <td>220</td>\n",
       "      <td>20</td>\n",
       "      <td>97.0</td>\n",
       "      <td>f</td>\n",
       "    </tr>\n",
       "    <tr>\n",
       "      <th>4</th>\n",
       "      <td>100%</td>\n",
       "      <td>f</td>\n",
       "      <td>['email', 'phone', 'facebook', 'reviews', 'kba']</td>\n",
       "      <td>t</td>\n",
       "      <td>Queen Anne</td>\n",
       "      <td>House</td>\n",
       "      <td>6</td>\n",
       "      <td>$450.00</td>\n",
       "      <td>$700.00</td>\n",
       "      <td>$125.00</td>\n",
       "      <td>6</td>\n",
       "      <td>$15.00</td>\n",
       "      <td>30</td>\n",
       "      <td>60</td>\n",
       "      <td>90</td>\n",
       "      <td>365</td>\n",
       "      <td>38</td>\n",
       "      <td>92.0</td>\n",
       "      <td>f</td>\n",
       "    </tr>\n",
       "    <tr>\n",
       "      <th>5</th>\n",
       "      <td>NaN</td>\n",
       "      <td>f</td>\n",
       "      <td>['email', 'phone', 'facebook', 'reviews', 'kba']</td>\n",
       "      <td>t</td>\n",
       "      <td>Queen Anne</td>\n",
       "      <td>House</td>\n",
       "      <td>2</td>\n",
       "      <td>$120.00</td>\n",
       "      <td>NaN</td>\n",
       "      <td>$40.00</td>\n",
       "      <td>1</td>\n",
       "      <td>$30.00</td>\n",
       "      <td>0</td>\n",
       "      <td>0</td>\n",
       "      <td>27</td>\n",
       "      <td>302</td>\n",
       "      <td>17</td>\n",
       "      <td>95.0</td>\n",
       "      <td>f</td>\n",
       "    </tr>\n",
       "  </tbody>\n",
       "</table>\n",
       "</div>"
      ],
      "text/plain": [
       "  host_response_rate host_is_superhost  \\\n",
       "0                96%                 f   \n",
       "1                98%                 t   \n",
       "2                67%                 f   \n",
       "4               100%                 f   \n",
       "5                NaN                 f   \n",
       "\n",
       "                                  host_verifications host_identity_verified  \\\n",
       "0               ['email', 'phone', 'reviews', 'kba']                      t   \n",
       "1  ['email', 'phone', 'facebook', 'linkedin', 're...                      t   \n",
       "2   ['email', 'phone', 'google', 'reviews', 'jumio']                      t   \n",
       "4   ['email', 'phone', 'facebook', 'reviews', 'kba']                      t   \n",
       "5   ['email', 'phone', 'facebook', 'reviews', 'kba']                      t   \n",
       "\n",
       "  neighbourhood property_type  accommodates    price security_deposit  \\\n",
       "0    Queen Anne     Apartment             4   $85.00              NaN   \n",
       "1    Queen Anne     Apartment             4  $150.00          $100.00   \n",
       "2    Queen Anne         House            11  $975.00        $1,000.00   \n",
       "4    Queen Anne         House             6  $450.00          $700.00   \n",
       "5    Queen Anne         House             2  $120.00              NaN   \n",
       "\n",
       "  cleaning_fee  guests_included extra_people  availability_30  \\\n",
       "0          NaN                2        $5.00               14   \n",
       "1       $40.00                1        $0.00               13   \n",
       "2      $300.00               10       $25.00                1   \n",
       "4      $125.00                6       $15.00               30   \n",
       "5       $40.00                1       $30.00                0   \n",
       "\n",
       "   availability_60  availability_90  availability_365  number_of_reviews  \\\n",
       "0               41               71               346                207   \n",
       "1               13               16               291                 43   \n",
       "2                6               17               220                 20   \n",
       "4               60               90               365                 38   \n",
       "5                0               27               302                 17   \n",
       "\n",
       "   review_scores_rating instant_bookable  \n",
       "0                  95.0                f  \n",
       "1                  96.0                f  \n",
       "2                  97.0                f  \n",
       "4                  92.0                f  \n",
       "5                  95.0                f  "
      ]
     },
     "execution_count": 133,
     "metadata": {},
     "output_type": "execute_result"
    }
   ],
   "source": [
    "# first remove rows that have no ratings\n",
    "q3_df = data.dropna(subset=['review_scores_rating'])\n",
    "# remove unnecessary columns\n",
    "q3_df = q3_df[['host_response_rate', 'host_is_superhost','host_verifications', 'host_identity_verified', 'neighbourhood',\n",
    "                'property_type', 'accommodates', 'price','security_deposit','cleaning_fee', 'guests_included', 'extra_people','availability_30', 'availability_60', 'availability_90',\n",
    "               'availability_365', 'number_of_reviews','review_scores_rating', 'instant_bookable']]\n",
    "q3_df.head()"
   ]
  },
  {
   "cell_type": "code",
   "execution_count": 134,
   "metadata": {},
   "outputs": [
    {
     "data": {
      "text/plain": [
       "host_response_rate         312\n",
       "host_is_superhost            0\n",
       "host_verifications           0\n",
       "host_identity_verified       0\n",
       "neighbourhood              305\n",
       "property_type                0\n",
       "accommodates                 0\n",
       "price                        0\n",
       "security_deposit          1561\n",
       "cleaning_fee               759\n",
       "guests_included              0\n",
       "extra_people                 0\n",
       "availability_30              0\n",
       "availability_60              0\n",
       "availability_90              0\n",
       "availability_365             0\n",
       "number_of_reviews            0\n",
       "review_scores_rating         0\n",
       "instant_bookable             0\n",
       "dtype: int64"
      ]
     },
     "execution_count": 134,
     "metadata": {},
     "output_type": "execute_result"
    }
   ],
   "source": [
    "q3_df.isnull().sum()"
   ]
  },
  {
   "cell_type": "markdown",
   "metadata": {},
   "source": [
    "Why is this data missing ?\n",
    "\n",
    "1) host_response_rate: must be because this host is new to the platform and didn't yet have any messages. So we will assume that his rate is 0% .\n",
    "\n",
    "2) neighbourhood: those who didn't mention the neighbourhood must've forgot to do so, accordingly we will impute with 'no_neighbourhood' to see it it matters to mention the neighbourhood or not.\n",
    "\n",
    "3) bathrooms: we will impute with the average number of bathrooms within the dataset as hosts might have forgotten to put them.\n",
    "\n",
    "4) security_deposit, cleaning_fee: Those values might be missing because they neither have a security deposit nor a cleaning fee, so we will impute with zeros"
   ]
  },
  {
   "cell_type": "code",
   "execution_count": 135,
   "metadata": {},
   "outputs": [],
   "source": [
    "def encode_value(val):\n",
    "    return 1 if val=='t'else 0\n",
    "def percentage_to_int(percentage):\n",
    "    return int(percentage.replace(\"%\",\"\"))"
   ]
  },
  {
   "cell_type": "code",
   "execution_count": 136,
   "metadata": {},
   "outputs": [
    {
     "data": {
      "text/html": [
       "<div>\n",
       "<style scoped>\n",
       "    .dataframe tbody tr th:only-of-type {\n",
       "        vertical-align: middle;\n",
       "    }\n",
       "\n",
       "    .dataframe tbody tr th {\n",
       "        vertical-align: top;\n",
       "    }\n",
       "\n",
       "    .dataframe thead th {\n",
       "        text-align: right;\n",
       "    }\n",
       "</style>\n",
       "<table border=\"1\" class=\"dataframe\">\n",
       "  <thead>\n",
       "    <tr style=\"text-align: right;\">\n",
       "      <th></th>\n",
       "      <th>host_response_rate</th>\n",
       "      <th>host_is_superhost</th>\n",
       "      <th>host_verifications</th>\n",
       "      <th>host_identity_verified</th>\n",
       "      <th>neighbourhood</th>\n",
       "      <th>property_type</th>\n",
       "      <th>accommodates</th>\n",
       "      <th>price</th>\n",
       "      <th>security_deposit</th>\n",
       "      <th>cleaning_fee</th>\n",
       "      <th>guests_included</th>\n",
       "      <th>extra_people</th>\n",
       "      <th>availability_30</th>\n",
       "      <th>availability_60</th>\n",
       "      <th>availability_90</th>\n",
       "      <th>availability_365</th>\n",
       "      <th>number_of_reviews</th>\n",
       "      <th>review_scores_rating</th>\n",
       "      <th>instant_bookable</th>\n",
       "    </tr>\n",
       "  </thead>\n",
       "  <tbody>\n",
       "    <tr>\n",
       "      <th>0</th>\n",
       "      <td>96%</td>\n",
       "      <td>f</td>\n",
       "      <td>['email', 'phone', 'reviews', 'kba']</td>\n",
       "      <td>t</td>\n",
       "      <td>Queen Anne</td>\n",
       "      <td>Apartment</td>\n",
       "      <td>4</td>\n",
       "      <td>$85.00</td>\n",
       "      <td>$0</td>\n",
       "      <td>$0</td>\n",
       "      <td>2</td>\n",
       "      <td>$5.00</td>\n",
       "      <td>14</td>\n",
       "      <td>41</td>\n",
       "      <td>71</td>\n",
       "      <td>346</td>\n",
       "      <td>207</td>\n",
       "      <td>95.0</td>\n",
       "      <td>f</td>\n",
       "    </tr>\n",
       "    <tr>\n",
       "      <th>1</th>\n",
       "      <td>98%</td>\n",
       "      <td>t</td>\n",
       "      <td>['email', 'phone', 'facebook', 'linkedin', 're...</td>\n",
       "      <td>t</td>\n",
       "      <td>Queen Anne</td>\n",
       "      <td>Apartment</td>\n",
       "      <td>4</td>\n",
       "      <td>$150.00</td>\n",
       "      <td>$100.00</td>\n",
       "      <td>$40.00</td>\n",
       "      <td>1</td>\n",
       "      <td>$0.00</td>\n",
       "      <td>13</td>\n",
       "      <td>13</td>\n",
       "      <td>16</td>\n",
       "      <td>291</td>\n",
       "      <td>43</td>\n",
       "      <td>96.0</td>\n",
       "      <td>f</td>\n",
       "    </tr>\n",
       "    <tr>\n",
       "      <th>2</th>\n",
       "      <td>67%</td>\n",
       "      <td>f</td>\n",
       "      <td>['email', 'phone', 'google', 'reviews', 'jumio']</td>\n",
       "      <td>t</td>\n",
       "      <td>Queen Anne</td>\n",
       "      <td>House</td>\n",
       "      <td>11</td>\n",
       "      <td>$975.00</td>\n",
       "      <td>$1,000.00</td>\n",
       "      <td>$300.00</td>\n",
       "      <td>10</td>\n",
       "      <td>$25.00</td>\n",
       "      <td>1</td>\n",
       "      <td>6</td>\n",
       "      <td>17</td>\n",
       "      <td>220</td>\n",
       "      <td>20</td>\n",
       "      <td>97.0</td>\n",
       "      <td>f</td>\n",
       "    </tr>\n",
       "    <tr>\n",
       "      <th>4</th>\n",
       "      <td>100%</td>\n",
       "      <td>f</td>\n",
       "      <td>['email', 'phone', 'facebook', 'reviews', 'kba']</td>\n",
       "      <td>t</td>\n",
       "      <td>Queen Anne</td>\n",
       "      <td>House</td>\n",
       "      <td>6</td>\n",
       "      <td>$450.00</td>\n",
       "      <td>$700.00</td>\n",
       "      <td>$125.00</td>\n",
       "      <td>6</td>\n",
       "      <td>$15.00</td>\n",
       "      <td>30</td>\n",
       "      <td>60</td>\n",
       "      <td>90</td>\n",
       "      <td>365</td>\n",
       "      <td>38</td>\n",
       "      <td>92.0</td>\n",
       "      <td>f</td>\n",
       "    </tr>\n",
       "    <tr>\n",
       "      <th>5</th>\n",
       "      <td>0%</td>\n",
       "      <td>f</td>\n",
       "      <td>['email', 'phone', 'facebook', 'reviews', 'kba']</td>\n",
       "      <td>t</td>\n",
       "      <td>Queen Anne</td>\n",
       "      <td>House</td>\n",
       "      <td>2</td>\n",
       "      <td>$120.00</td>\n",
       "      <td>$0</td>\n",
       "      <td>$40.00</td>\n",
       "      <td>1</td>\n",
       "      <td>$30.00</td>\n",
       "      <td>0</td>\n",
       "      <td>0</td>\n",
       "      <td>27</td>\n",
       "      <td>302</td>\n",
       "      <td>17</td>\n",
       "      <td>95.0</td>\n",
       "      <td>f</td>\n",
       "    </tr>\n",
       "  </tbody>\n",
       "</table>\n",
       "</div>"
      ],
      "text/plain": [
       "  host_response_rate host_is_superhost  \\\n",
       "0                96%                 f   \n",
       "1                98%                 t   \n",
       "2                67%                 f   \n",
       "4               100%                 f   \n",
       "5                 0%                 f   \n",
       "\n",
       "                                  host_verifications host_identity_verified  \\\n",
       "0               ['email', 'phone', 'reviews', 'kba']                      t   \n",
       "1  ['email', 'phone', 'facebook', 'linkedin', 're...                      t   \n",
       "2   ['email', 'phone', 'google', 'reviews', 'jumio']                      t   \n",
       "4   ['email', 'phone', 'facebook', 'reviews', 'kba']                      t   \n",
       "5   ['email', 'phone', 'facebook', 'reviews', 'kba']                      t   \n",
       "\n",
       "  neighbourhood property_type  accommodates    price security_deposit  \\\n",
       "0    Queen Anne     Apartment             4   $85.00               $0   \n",
       "1    Queen Anne     Apartment             4  $150.00          $100.00   \n",
       "2    Queen Anne         House            11  $975.00        $1,000.00   \n",
       "4    Queen Anne         House             6  $450.00          $700.00   \n",
       "5    Queen Anne         House             2  $120.00               $0   \n",
       "\n",
       "  cleaning_fee  guests_included extra_people  availability_30  \\\n",
       "0           $0                2        $5.00               14   \n",
       "1       $40.00                1        $0.00               13   \n",
       "2      $300.00               10       $25.00                1   \n",
       "4      $125.00                6       $15.00               30   \n",
       "5       $40.00                1       $30.00                0   \n",
       "\n",
       "   availability_60  availability_90  availability_365  number_of_reviews  \\\n",
       "0               41               71               346                207   \n",
       "1               13               16               291                 43   \n",
       "2                6               17               220                 20   \n",
       "4               60               90               365                 38   \n",
       "5                0               27               302                 17   \n",
       "\n",
       "   review_scores_rating instant_bookable  \n",
       "0                  95.0                f  \n",
       "1                  96.0                f  \n",
       "2                  97.0                f  \n",
       "4                  92.0                f  \n",
       "5                  95.0                f  "
      ]
     },
     "execution_count": 136,
     "metadata": {},
     "output_type": "execute_result"
    }
   ],
   "source": [
    "#impute the missing values\n",
    "q3_df['host_response_rate'].fillna('0%',inplace=True)\n",
    "q3_df['neighbourhood'].fillna('no_neighbourhood',inplace=True)\n",
    "# q3_df['bathrooms'].fillna(q3_df['bathrooms'].mean() //1 , inplace =True)\n",
    "q3_df['security_deposit'].fillna('$0',inplace=True)\n",
    "q3_df['cleaning_fee'].fillna('$0',inplace=True)\n",
    "q3_df.head()"
   ]
  },
  {
   "cell_type": "code",
   "execution_count": 137,
   "metadata": {},
   "outputs": [
    {
     "name": "stderr",
     "output_type": "stream",
     "text": [
      "/tmp/ipykernel_10567/1738664459.py:11: FutureWarning: Using the level keyword in DataFrame and Series aggregations is deprecated and will be removed in a future version. Use groupby instead. df.sum(level=1) should use df.groupby(level=1).sum().\n",
      "  q3_df = pd.concat([q3_df.drop('host_verifications',axis=1),q3_df['host_verifications'].apply(pd.Series).stack().str.get_dummies().sum(level=0)])\n"
     ]
    },
    {
     "data": {
      "text/html": [
       "<div>\n",
       "<style scoped>\n",
       "    .dataframe tbody tr th:only-of-type {\n",
       "        vertical-align: middle;\n",
       "    }\n",
       "\n",
       "    .dataframe tbody tr th {\n",
       "        vertical-align: top;\n",
       "    }\n",
       "\n",
       "    .dataframe thead th {\n",
       "        text-align: right;\n",
       "    }\n",
       "</style>\n",
       "<table border=\"1\" class=\"dataframe\">\n",
       "  <thead>\n",
       "    <tr style=\"text-align: right;\">\n",
       "      <th></th>\n",
       "      <th>host_response_rate</th>\n",
       "      <th>host_is_superhost</th>\n",
       "      <th>host_identity_verified</th>\n",
       "      <th>accommodates</th>\n",
       "      <th>price</th>\n",
       "      <th>security_deposit</th>\n",
       "      <th>cleaning_fee</th>\n",
       "      <th>guests_included</th>\n",
       "      <th>extra_people</th>\n",
       "      <th>availability_30</th>\n",
       "      <th>...</th>\n",
       "      <th>property_type_Chalet</th>\n",
       "      <th>property_type_Condominium</th>\n",
       "      <th>property_type_Dorm</th>\n",
       "      <th>property_type_House</th>\n",
       "      <th>property_type_Loft</th>\n",
       "      <th>property_type_Other</th>\n",
       "      <th>property_type_Tent</th>\n",
       "      <th>property_type_Townhouse</th>\n",
       "      <th>property_type_Treehouse</th>\n",
       "      <th>property_type_Yurt</th>\n",
       "    </tr>\n",
       "  </thead>\n",
       "  <tbody>\n",
       "    <tr>\n",
       "      <th>0</th>\n",
       "      <td>96.0</td>\n",
       "      <td>0.0</td>\n",
       "      <td>1.0</td>\n",
       "      <td>4.0</td>\n",
       "      <td>85.0</td>\n",
       "      <td>0.0</td>\n",
       "      <td>0.0</td>\n",
       "      <td>2.0</td>\n",
       "      <td>5.0</td>\n",
       "      <td>14.0</td>\n",
       "      <td>...</td>\n",
       "      <td>0</td>\n",
       "      <td>0</td>\n",
       "      <td>0</td>\n",
       "      <td>0</td>\n",
       "      <td>0</td>\n",
       "      <td>0</td>\n",
       "      <td>0</td>\n",
       "      <td>0</td>\n",
       "      <td>0</td>\n",
       "      <td>0</td>\n",
       "    </tr>\n",
       "    <tr>\n",
       "      <th>1</th>\n",
       "      <td>98.0</td>\n",
       "      <td>1.0</td>\n",
       "      <td>1.0</td>\n",
       "      <td>4.0</td>\n",
       "      <td>150.0</td>\n",
       "      <td>100.0</td>\n",
       "      <td>40.0</td>\n",
       "      <td>1.0</td>\n",
       "      <td>0.0</td>\n",
       "      <td>13.0</td>\n",
       "      <td>...</td>\n",
       "      <td>0</td>\n",
       "      <td>0</td>\n",
       "      <td>0</td>\n",
       "      <td>0</td>\n",
       "      <td>0</td>\n",
       "      <td>0</td>\n",
       "      <td>0</td>\n",
       "      <td>0</td>\n",
       "      <td>0</td>\n",
       "      <td>0</td>\n",
       "    </tr>\n",
       "    <tr>\n",
       "      <th>2</th>\n",
       "      <td>67.0</td>\n",
       "      <td>0.0</td>\n",
       "      <td>1.0</td>\n",
       "      <td>11.0</td>\n",
       "      <td>975.0</td>\n",
       "      <td>0.0</td>\n",
       "      <td>300.0</td>\n",
       "      <td>10.0</td>\n",
       "      <td>25.0</td>\n",
       "      <td>1.0</td>\n",
       "      <td>...</td>\n",
       "      <td>0</td>\n",
       "      <td>0</td>\n",
       "      <td>0</td>\n",
       "      <td>1</td>\n",
       "      <td>0</td>\n",
       "      <td>0</td>\n",
       "      <td>0</td>\n",
       "      <td>0</td>\n",
       "      <td>0</td>\n",
       "      <td>0</td>\n",
       "    </tr>\n",
       "    <tr>\n",
       "      <th>4</th>\n",
       "      <td>100.0</td>\n",
       "      <td>0.0</td>\n",
       "      <td>1.0</td>\n",
       "      <td>6.0</td>\n",
       "      <td>450.0</td>\n",
       "      <td>700.0</td>\n",
       "      <td>125.0</td>\n",
       "      <td>6.0</td>\n",
       "      <td>15.0</td>\n",
       "      <td>30.0</td>\n",
       "      <td>...</td>\n",
       "      <td>0</td>\n",
       "      <td>0</td>\n",
       "      <td>0</td>\n",
       "      <td>1</td>\n",
       "      <td>0</td>\n",
       "      <td>0</td>\n",
       "      <td>0</td>\n",
       "      <td>0</td>\n",
       "      <td>0</td>\n",
       "      <td>0</td>\n",
       "    </tr>\n",
       "    <tr>\n",
       "      <th>5</th>\n",
       "      <td>0.0</td>\n",
       "      <td>0.0</td>\n",
       "      <td>1.0</td>\n",
       "      <td>2.0</td>\n",
       "      <td>120.0</td>\n",
       "      <td>0.0</td>\n",
       "      <td>40.0</td>\n",
       "      <td>1.0</td>\n",
       "      <td>30.0</td>\n",
       "      <td>0.0</td>\n",
       "      <td>...</td>\n",
       "      <td>0</td>\n",
       "      <td>0</td>\n",
       "      <td>0</td>\n",
       "      <td>1</td>\n",
       "      <td>0</td>\n",
       "      <td>0</td>\n",
       "      <td>0</td>\n",
       "      <td>0</td>\n",
       "      <td>0</td>\n",
       "      <td>0</td>\n",
       "    </tr>\n",
       "  </tbody>\n",
       "</table>\n",
       "<p>5 rows × 126 columns</p>\n",
       "</div>"
      ],
      "text/plain": [
       "   host_response_rate  host_is_superhost  host_identity_verified  \\\n",
       "0                96.0                0.0                     1.0   \n",
       "1                98.0                1.0                     1.0   \n",
       "2                67.0                0.0                     1.0   \n",
       "4               100.0                0.0                     1.0   \n",
       "5                 0.0                0.0                     1.0   \n",
       "\n",
       "   accommodates  price  security_deposit  cleaning_fee  guests_included  \\\n",
       "0           4.0   85.0               0.0           0.0              2.0   \n",
       "1           4.0  150.0             100.0          40.0              1.0   \n",
       "2          11.0  975.0               0.0         300.0             10.0   \n",
       "4           6.0  450.0             700.0         125.0              6.0   \n",
       "5           2.0  120.0               0.0          40.0              1.0   \n",
       "\n",
       "   extra_people  availability_30  ...  property_type_Chalet  \\\n",
       "0           5.0             14.0  ...                     0   \n",
       "1           0.0             13.0  ...                     0   \n",
       "2          25.0              1.0  ...                     0   \n",
       "4          15.0             30.0  ...                     0   \n",
       "5          30.0              0.0  ...                     0   \n",
       "\n",
       "   property_type_Condominium  property_type_Dorm  property_type_House  \\\n",
       "0                          0                   0                    0   \n",
       "1                          0                   0                    0   \n",
       "2                          0                   0                    1   \n",
       "4                          0                   0                    1   \n",
       "5                          0                   0                    1   \n",
       "\n",
       "   property_type_Loft  property_type_Other  property_type_Tent  \\\n",
       "0                   0                    0                   0   \n",
       "1                   0                    0                   0   \n",
       "2                   0                    0                   0   \n",
       "4                   0                    0                   0   \n",
       "5                   0                    0                   0   \n",
       "\n",
       "   property_type_Townhouse  property_type_Treehouse  property_type_Yurt  \n",
       "0                        0                        0                   0  \n",
       "1                        0                        0                   0  \n",
       "2                        0                        0                   0  \n",
       "4                        0                        0                   0  \n",
       "5                        0                        0                   0  \n",
       "\n",
       "[5 rows x 126 columns]"
      ]
     },
     "execution_count": 137,
     "metadata": {},
     "output_type": "execute_result"
    }
   ],
   "source": [
    "q3_df['host_response_rate']=q3_df['host_response_rate'].apply(percentage_to_int)\n",
    "q3_df['host_is_superhost']=q3_df['host_is_superhost'].apply(encode_value)\n",
    "q3_df['host_identity_verified']=q3_df['host_identity_verified'].apply(encode_value)\n",
    "q3_df['instant_bookable']=q3_df['instant_bookable'].apply(encode_value)\n",
    "q3_df = price_string_to_int(q3_df,'cleaning_fee')\n",
    "q3_df = price_string_to_int(q3_df,'extra_people')\n",
    "q3_df = price_string_to_int(q3_df,'price')\n",
    "q3_df = price_string_to_int(q3_df,'security_deposit')\n",
    "q3_df['host_verifications'] = q3_df['host_verifications'].apply(lambda x : x[1:-1].replace(\"'\",\"\").split(\", \"))\n",
    "# q3_df = one_hot_encode(q3_df , 'host_verifications')\n",
    "q3_df = pd.concat([q3_df.drop('host_verifications',axis=1),q3_df['host_verifications'].apply(pd.Series).stack().str.get_dummies().sum(level=0)])\n",
    "q3_df = q3_df.fillna(value=0)\n",
    "q3_df = one_hot_encode(q3_df , 'neighbourhood')\n",
    "q3_df = one_hot_encode(q3_df , 'property_type')\n",
    "# q3_df = one_hot_encode(q3_df , 'bed_type')\n",
    "# q3_df['amenities'] = q3_df['amenities'].apply(lambda x : split_amenities(x))\n",
    "# q3_df['amenities'] = q3_df['amenities'].apply(remove_quotes)\n",
    "# q3_df['amenities'] = q3_df['amenities'].apply(lambda x : list(x.split(\",\"))if x else None)\n",
    "# q3_df = pd.concat([q3_df.drop('amenities',axis=1),q3_df['amenities'].apply(pd.Series).stack().str.get_dummies().sum(level=0)])\n",
    "q3_df = q3_df.fillna(value=0)\n",
    "\n",
    "# q3_df['extra_people']=q3_df['extra_people'].apply(price_string_to_int)\n",
    "# q3_df['price']=q3_df['price'].apply(price_string_to_int)\n",
    "# q3_df['security_deposit']=q3_df['security_deposit'].apply(price_string_to_int)\n",
    "\n",
    "\n",
    "\n",
    "q3_df.head()"
   ]
  },
  {
   "cell_type": "code",
   "execution_count": 138,
   "metadata": {},
   "outputs": [],
   "source": [
    "# q3_df['host_verifications'][0][1:-1].replace(\"'\",\"\").split(\", \")"
   ]
  },
  {
   "cell_type": "code",
   "execution_count": 139,
   "metadata": {},
   "outputs": [
    {
     "data": {
      "text/plain": [
       "host_response_rate         float64\n",
       "host_is_superhost          float64\n",
       "host_identity_verified     float64\n",
       "accommodates               float64\n",
       "price                      float64\n",
       "                            ...   \n",
       "property_type_Other          uint8\n",
       "property_type_Tent           uint8\n",
       "property_type_Townhouse      uint8\n",
       "property_type_Treehouse      uint8\n",
       "property_type_Yurt           uint8\n",
       "Length: 126, dtype: object"
      ]
     },
     "execution_count": 139,
     "metadata": {},
     "output_type": "execute_result"
    }
   ],
   "source": [
    "q3_df.dtypes"
   ]
  },
  {
   "cell_type": "code",
   "execution_count": 140,
   "metadata": {},
   "outputs": [
    {
     "data": {
      "image/png": "[encoded data removed]",
      "text/plain": [
       "<Figure size 720x432 with 1 Axes>"
      ]
     },
     "metadata": {
      "needs_background": "light"
     },
     "output_type": "display_data"
    }
   ],
   "source": [
    "# get the correlation between all columns and the reviews\n",
    "corr_matrix = q3_df.corrwith(q3_df['review_scores_rating']).sort_values(ascending=False)\n",
    "\n",
    "# Visualize the top 15 correlated values and the reviews\n",
    "top_15_corr = corr_matrix[1:16]  # Excluding the 'review_scores_rating' column\n",
    "top_15_corr.plot(kind='bar', figsize=(10, 6), color='blue')\n",
    "plt.title('Top 15 Correlated Features with Rating')\n",
    "plt.xlabel('Features')\n",
    "plt.ylabel('Correlation Coefficient')\n",
    "plt.show()"
   ]
  },
  {
   "cell_type": "markdown",
   "metadata": {},
   "source": [
    "### Conclusion\n",
    "As we can see from the results above, the highest correlated variable to the review of a given listing is a given host's response rate. As clarified in the plot above showing the top 15 correlated variables with the rating of a given listing."
   ]
  },
  {
   "cell_type": "markdown",
   "metadata": {},
   "source": [
    "## Question 4\n",
    "#### How well can we predict the price of a listing, given its size (e.g. number of bedrooms, bathrooms, etc.) ?"
   ]
  },
  {
   "cell_type": "code",
   "execution_count": 141,
   "metadata": {},
   "outputs": [
    {
     "data": {
      "text/html": [
       "<div>\n",
       "<style scoped>\n",
       "    .dataframe tbody tr th:only-of-type {\n",
       "        vertical-align: middle;\n",
       "    }\n",
       "\n",
       "    .dataframe tbody tr th {\n",
       "        vertical-align: top;\n",
       "    }\n",
       "\n",
       "    .dataframe thead th {\n",
       "        text-align: right;\n",
       "    }\n",
       "</style>\n",
       "<table border=\"1\" class=\"dataframe\">\n",
       "  <thead>\n",
       "    <tr style=\"text-align: right;\">\n",
       "      <th></th>\n",
       "      <th>bathrooms</th>\n",
       "      <th>bedrooms</th>\n",
       "      <th>beds</th>\n",
       "      <th>square_feet</th>\n",
       "      <th>price</th>\n",
       "    </tr>\n",
       "  </thead>\n",
       "  <tbody>\n",
       "    <tr>\n",
       "      <th>0</th>\n",
       "      <td>1.0</td>\n",
       "      <td>1.0</td>\n",
       "      <td>1.0</td>\n",
       "      <td>NaN</td>\n",
       "      <td>$85.00</td>\n",
       "    </tr>\n",
       "    <tr>\n",
       "      <th>1</th>\n",
       "      <td>1.0</td>\n",
       "      <td>1.0</td>\n",
       "      <td>1.0</td>\n",
       "      <td>NaN</td>\n",
       "      <td>$150.00</td>\n",
       "    </tr>\n",
       "    <tr>\n",
       "      <th>2</th>\n",
       "      <td>4.5</td>\n",
       "      <td>5.0</td>\n",
       "      <td>7.0</td>\n",
       "      <td>NaN</td>\n",
       "      <td>$975.00</td>\n",
       "    </tr>\n",
       "    <tr>\n",
       "      <th>3</th>\n",
       "      <td>1.0</td>\n",
       "      <td>0.0</td>\n",
       "      <td>2.0</td>\n",
       "      <td>NaN</td>\n",
       "      <td>$100.00</td>\n",
       "    </tr>\n",
       "    <tr>\n",
       "      <th>4</th>\n",
       "      <td>2.0</td>\n",
       "      <td>3.0</td>\n",
       "      <td>3.0</td>\n",
       "      <td>NaN</td>\n",
       "      <td>$450.00</td>\n",
       "    </tr>\n",
       "  </tbody>\n",
       "</table>\n",
       "</div>"
      ],
      "text/plain": [
       "   bathrooms  bedrooms  beds  square_feet    price\n",
       "0        1.0       1.0   1.0          NaN   $85.00\n",
       "1        1.0       1.0   1.0          NaN  $150.00\n",
       "2        4.5       5.0   7.0          NaN  $975.00\n",
       "3        1.0       0.0   2.0          NaN  $100.00\n",
       "4        2.0       3.0   3.0          NaN  $450.00"
      ]
     },
     "execution_count": 141,
     "metadata": {},
     "output_type": "execute_result"
    }
   ],
   "source": [
    "q4_df = data[['bathrooms', 'bedrooms', 'beds', 'square_feet',\n",
    "       'price']]\n",
    "\n",
    "q4_df.head()\n"
   ]
  },
  {
   "cell_type": "code",
   "execution_count": 142,
   "metadata": {},
   "outputs": [
    {
     "name": "stdout",
     "output_type": "stream",
     "text": [
      "\n",
      "The missing values in bathrooms = 16 , 0.0041906757464641176%\n",
      "The missing values in bedrooms = 6 , 0.001571503404924044%\n",
      "The missing values in beds = 1 , 0.00026191723415400735%\n",
      "The missing values in square_feet = 3721 , 0.9745940282870613%\n",
      "The missing values in price = 0 , 0.0%\n"
     ]
    }
   ],
   "source": [
    "print(\n",
    "     \n",
    "     f\"\\nThe missing values in bathrooms = {missing_values(q4_df,'bathrooms')[0]} , {missing_values(q4_df,'bathrooms')[1]}%\"\n",
    "     f\"\\nThe missing values in bedrooms = {missing_values(q4_df,'bedrooms')[0]} , {missing_values(q4_df,'bedrooms')[1]}%\"\n",
    "     f\"\\nThe missing values in beds = {missing_values(q4_df,'beds')[0]} , {missing_values(q4_df,'beds')[1]}%\"\n",
    "     f\"\\nThe missing values in square_feet = {missing_values(q4_df,'square_feet')[0]} , {missing_values(q4_df,'square_feet')[1]}%\"\n",
    "     f\"\\nThe missing values in price = {missing_values(q4_df,'price')[0]} , {missing_values(q4_df,'price')[1]}%\")"
   ]
  },
  {
   "cell_type": "markdown",
   "metadata": {},
   "source": [
    "As we can see, almost all rows are filled, so we can safely drop rows that have no property_type, bathrooms, bedrooms as the hosts of these listings might have forgot to add them. As for the square_feet column we can completely drop it as the hosts might not know the exact number to put in, and the size is usually implied by the number of rooms in the property."
   ]
  },
  {
   "cell_type": "code",
   "execution_count": 143,
   "metadata": {},
   "outputs": [
    {
     "name": "stderr",
     "output_type": "stream",
     "text": [
      "/home/ishams/anaconda3/lib/python3.9/site-packages/pandas/core/frame.py:4906: SettingWithCopyWarning: \n",
      "A value is trying to be set on a copy of a slice from a DataFrame\n",
      "\n",
      "See the caveats in the documentation: https://pandas.pydata.org/pandas-docs/stable/user_guide/indexing.html#returning-a-view-versus-a-copy\n",
      "  return super().drop(\n"
     ]
    },
    {
     "data": {
      "text/html": [
       "<div>\n",
       "<style scoped>\n",
       "    .dataframe tbody tr th:only-of-type {\n",
       "        vertical-align: middle;\n",
       "    }\n",
       "\n",
       "    .dataframe tbody tr th {\n",
       "        vertical-align: top;\n",
       "    }\n",
       "\n",
       "    .dataframe thead th {\n",
       "        text-align: right;\n",
       "    }\n",
       "</style>\n",
       "<table border=\"1\" class=\"dataframe\">\n",
       "  <thead>\n",
       "    <tr style=\"text-align: right;\">\n",
       "      <th></th>\n",
       "      <th>bathrooms</th>\n",
       "      <th>bedrooms</th>\n",
       "      <th>beds</th>\n",
       "      <th>price</th>\n",
       "    </tr>\n",
       "  </thead>\n",
       "  <tbody>\n",
       "    <tr>\n",
       "      <th>0</th>\n",
       "      <td>1.0</td>\n",
       "      <td>1.0</td>\n",
       "      <td>1.0</td>\n",
       "      <td>$85.00</td>\n",
       "    </tr>\n",
       "    <tr>\n",
       "      <th>1</th>\n",
       "      <td>1.0</td>\n",
       "      <td>1.0</td>\n",
       "      <td>1.0</td>\n",
       "      <td>$150.00</td>\n",
       "    </tr>\n",
       "    <tr>\n",
       "      <th>2</th>\n",
       "      <td>4.5</td>\n",
       "      <td>5.0</td>\n",
       "      <td>7.0</td>\n",
       "      <td>$975.00</td>\n",
       "    </tr>\n",
       "    <tr>\n",
       "      <th>3</th>\n",
       "      <td>1.0</td>\n",
       "      <td>0.0</td>\n",
       "      <td>2.0</td>\n",
       "      <td>$100.00</td>\n",
       "    </tr>\n",
       "    <tr>\n",
       "      <th>4</th>\n",
       "      <td>2.0</td>\n",
       "      <td>3.0</td>\n",
       "      <td>3.0</td>\n",
       "      <td>$450.00</td>\n",
       "    </tr>\n",
       "  </tbody>\n",
       "</table>\n",
       "</div>"
      ],
      "text/plain": [
       "   bathrooms  bedrooms  beds    price\n",
       "0        1.0       1.0   1.0   $85.00\n",
       "1        1.0       1.0   1.0  $150.00\n",
       "2        4.5       5.0   7.0  $975.00\n",
       "3        1.0       0.0   2.0  $100.00\n",
       "4        2.0       3.0   3.0  $450.00"
      ]
     },
     "execution_count": 143,
     "metadata": {},
     "output_type": "execute_result"
    }
   ],
   "source": [
    "q4_df.drop('square_feet',axis=1,inplace=True)\n",
    "q4_df = remove_missing_rows(q4_df,['bathrooms', 'bedrooms', 'beds', \n",
    "       'price'])\n",
    "q4_df.head()"
   ]
  },
  {
   "cell_type": "code",
   "execution_count": 144,
   "metadata": {},
   "outputs": [
    {
     "data": {
      "text/plain": [
       "bathrooms    float64\n",
       "bedrooms     float64\n",
       "beds         float64\n",
       "price         object\n",
       "dtype: object"
      ]
     },
     "execution_count": 144,
     "metadata": {},
     "output_type": "execute_result"
    }
   ],
   "source": [
    "q4_df.dtypes"
   ]
  },
  {
   "cell_type": "code",
   "execution_count": 145,
   "metadata": {},
   "outputs": [
    {
     "data": {
      "text/html": [
       "<div>\n",
       "<style scoped>\n",
       "    .dataframe tbody tr th:only-of-type {\n",
       "        vertical-align: middle;\n",
       "    }\n",
       "\n",
       "    .dataframe tbody tr th {\n",
       "        vertical-align: top;\n",
       "    }\n",
       "\n",
       "    .dataframe thead th {\n",
       "        text-align: right;\n",
       "    }\n",
       "</style>\n",
       "<table border=\"1\" class=\"dataframe\">\n",
       "  <thead>\n",
       "    <tr style=\"text-align: right;\">\n",
       "      <th></th>\n",
       "      <th>bathrooms</th>\n",
       "      <th>bedrooms</th>\n",
       "      <th>beds</th>\n",
       "      <th>price</th>\n",
       "    </tr>\n",
       "  </thead>\n",
       "  <tbody>\n",
       "    <tr>\n",
       "      <th>0</th>\n",
       "      <td>1.0</td>\n",
       "      <td>1.0</td>\n",
       "      <td>1.0</td>\n",
       "      <td>85.0</td>\n",
       "    </tr>\n",
       "    <tr>\n",
       "      <th>1</th>\n",
       "      <td>1.0</td>\n",
       "      <td>1.0</td>\n",
       "      <td>1.0</td>\n",
       "      <td>150.0</td>\n",
       "    </tr>\n",
       "    <tr>\n",
       "      <th>2</th>\n",
       "      <td>4.5</td>\n",
       "      <td>5.0</td>\n",
       "      <td>7.0</td>\n",
       "      <td>975.0</td>\n",
       "    </tr>\n",
       "    <tr>\n",
       "      <th>3</th>\n",
       "      <td>1.0</td>\n",
       "      <td>0.0</td>\n",
       "      <td>2.0</td>\n",
       "      <td>100.0</td>\n",
       "    </tr>\n",
       "    <tr>\n",
       "      <th>4</th>\n",
       "      <td>2.0</td>\n",
       "      <td>3.0</td>\n",
       "      <td>3.0</td>\n",
       "      <td>450.0</td>\n",
       "    </tr>\n",
       "  </tbody>\n",
       "</table>\n",
       "</div>"
      ],
      "text/plain": [
       "   bathrooms  bedrooms  beds  price\n",
       "0        1.0       1.0   1.0   85.0\n",
       "1        1.0       1.0   1.0  150.0\n",
       "2        4.5       5.0   7.0  975.0\n",
       "3        1.0       0.0   2.0  100.0\n",
       "4        2.0       3.0   3.0  450.0"
      ]
     },
     "execution_count": 145,
     "metadata": {},
     "output_type": "execute_result"
    }
   ],
   "source": [
    "# change price to float\n",
    "q4_df = price_string_to_int(q4_df,'price')\n",
    "q4_df = q4_df.dropna(axis=0, subset=['price'])\n",
    "q4_df.head()"
   ]
  },
  {
   "cell_type": "code",
   "execution_count": 146,
   "metadata": {},
   "outputs": [
    {
     "data": {
      "text/plain": [
       "'The r-squared score for your model was 0.45956146633675177 on 1139 values.'"
      ]
     },
     "execution_count": 146,
     "metadata": {},
     "output_type": "execute_result"
    }
   ],
   "source": [
    "X,y = q4_df.drop('price',axis=1),q4_df['price']\n",
    "X_train, X_test, y_train, y_test = train_test_split(X, y, test_size = .30, random_state=42) \n",
    "lm_model = LinearRegression(normalize=True) # Instantiate\n",
    "lm_model.fit(X_train, y_train) #Fit\n",
    "#Predict and score the model\n",
    "y_test_preds = lm_model.predict(X_test) \n",
    "\n",
    "#Rsquared and y_test\n",
    "rsquared_score = r2_score(y_test, y_test_preds)\n",
    "length_y_test = len(y_test)\n",
    "\n",
    "\"The r-squared score for your model was {} on {} values.\".format(rsquared_score, length_y_test)"
   ]
  },
  {
   "cell_type": "markdown",
   "metadata": {},
   "source": [
    "### Conclusion\n",
    "As we can see from the results above, the r-squared score is about 0.45, which means that the independent variables (in this case 'bathrooms', 'bedrooms', 'beds'), the size of a listing is not actually sufficient to predict the price of that listing."
   ]
  },
  {
   "cell_type": "code",
   "execution_count": null,
   "metadata": {},
   "outputs": [],
   "source": []
  }
 ],
 "metadata": {
  "kernelspec": {
   "display_name": "Python 3 (ipykernel)",
   "language": "python",
   "name": "python3"
  },
  "language_info": {
   "codemirror_mode": {
    "name": "ipython",
    "version": 3
   },
   "file_extension": ".py",
   "mimetype": "text/x-python",
   "name": "python",
   "nbconvert_exporter": "python",
   "pygments_lexer": "ipython3",
   "version": "3.9.7"
  }
 },
 "nbformat": 4,
 "nbformat_minor": 2
}
